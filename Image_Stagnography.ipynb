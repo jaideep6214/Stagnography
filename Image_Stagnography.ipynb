{
  "nbformat": 4,
  "nbformat_minor": 0,
  "metadata": {
    "colab": {
      "name": "Image Stagnography.ipynb",
      "provenance": [],
      "authorship_tag": "ABX9TyPUlqeGozwdLOmOjXk0pCr3",
      "include_colab_link": true
    },
    "kernelspec": {
      "name": "python3",
      "display_name": "Python 3"
    },
    "language_info": {
      "name": "python"
    }
  },
  "cells": [
    {
      "cell_type": "markdown",
      "metadata": {
        "id": "view-in-github",
        "colab_type": "text"
      },
      "source": [
        "<a href=\"https://colab.research.google.com/github/jaideep6214/Stagnography/blob/main/Image_Stagnography.ipynb\" target=\"_parent\"><img src=\"https://colab.research.google.com/assets/colab-badge.svg\" alt=\"Open In Colab\"/></a>"
      ]
    },
    {
      "cell_type": "code",
      "metadata": {
        "colab": {
          "base_uri": "https://localhost:8080/"
        },
        "id": "pUEt3ipvn2Dt",
        "outputId": "f0cf779f-a939-4f86-b4af-4fce7cbcccfd"
      },
      "source": [
        "from google.colab import drive\n",
        "drive.mount('/content/gdrive')"
      ],
      "execution_count": 1,
      "outputs": [
        {
          "output_type": "stream",
          "text": [
            "Mounted at /content/gdrive\n"
          ],
          "name": "stdout"
        }
      ]
    },
    {
      "cell_type": "code",
      "metadata": {
        "id": "_EjMG8x6oPxB"
      },
      "source": [
        "from PIL import Image"
      ],
      "execution_count": 3,
      "outputs": []
    },
    {
      "cell_type": "code",
      "metadata": {
        "colab": {
          "base_uri": "https://localhost:8080/"
        },
        "id": "JgzJm8tpoJE5",
        "outputId": "8ce357fa-f726-424b-baea-aedcfd134c12"
      },
      "source": [
        "\n",
        "def genData(data):\n",
        "        newd = []\n",
        "        for i in data:\n",
        "            newd.append(format(ord(i), '08b'))\n",
        "        return newd\n",
        " \n",
        "# Pixels are modified according to the\n",
        "# 8-bit binary data and finally returned\n",
        "def modPix(pix, data):\n",
        " \n",
        "    datalist = genData(data)\n",
        "    lendata = len(datalist)\n",
        "    imdata = iter(pix)\n",
        " \n",
        "    for i in range(lendata):\n",
        " \n",
        "        # Extracting 3 pixels at a time\n",
        "        pix = [value for value in imdata.__next__()[:3] +\n",
        "                                imdata.__next__()[:3] +\n",
        "                                imdata.__next__()[:3]]\n",
        " \n",
        "        # Pixel value should be made\n",
        "        # odd for 1 and even for 0\n",
        "        for j in range(0, 8):\n",
        "            if (datalist[i][j] == '0' and pix[j]% 2 != 0):\n",
        "                pix[j] -= 1\n",
        " \n",
        "            elif (datalist[i][j] == '1' and pix[j] % 2 == 0):\n",
        "                if(pix[j] != 0):\n",
        "                    pix[j] -= 1\n",
        "                else:\n",
        "                    pix[j] += 1\n",
        "                # pix[j] -= 1\n",
        " \n",
        "        # Eighth pixel of every set tells\n",
        "        # whether to stop ot read further.\n",
        "        # 0 means keep reading; 1 means thec\n",
        "        # message is over.\n",
        "        if (i == lendata - 1):\n",
        "            if (pix[-1] % 2 == 0):\n",
        "                if(pix[-1] != 0):\n",
        "                    pix[-1] -= 1\n",
        "                else:\n",
        "                    pix[-1] += 1\n",
        " \n",
        "        else:\n",
        "            if (pix[-1] % 2 != 0):\n",
        "                pix[-1] -= 1\n",
        " \n",
        "        pix = tuple(pix)\n",
        "        yield pix[0:3]\n",
        "        yield pix[3:6]\n",
        "        yield pix[6:9]\n",
        " \n",
        "def encode_enc(newimg, data):\n",
        "    w = newimg.size[0]\n",
        "    (x, y) = (0, 0)\n",
        " \n",
        "    for pixel in modPix(newimg.getdata(), data):\n",
        " \n",
        "        # Putting modified pixels in the new image\n",
        "        newimg.putpixel((x, y), pixel)\n",
        "        if (x == w - 1):\n",
        "            x = 0\n",
        "            y += 1\n",
        "        else:\n",
        "            x += 1\n",
        " \n",
        "# Encode data into image\n",
        "def encode():\n",
        "    img = input(\"Enter image name(with extension) : \")\n",
        "    image = Image.open(img, 'r')\n",
        " \n",
        "    data = input(\"Enter data to be encoded : \")\n",
        "    if (len(data) == 0):\n",
        "        raise ValueError('Data is empty')\n",
        " \n",
        "    newimg = image.copy()\n",
        "    encode_enc(newimg, data)\n",
        " \n",
        "    new_img_name=\"new.png\"\n",
        "    newimg.save(\"new.png\", str(new_img_name.split(\".\")[1].upper()))\n",
        "    !cp new.png \"/content/gdrive/My Drive/ML Projects/Image/\"\n",
        " \n",
        "# Decode the data in the image\n",
        "def decode():\n",
        "    img = input(\"Enter image name(with extension) : \")\n",
        "    image = Image.open(img, 'r')\n",
        " \n",
        "    data = ''\n",
        "    imgdata = iter(image.getdata())\n",
        " \n",
        "    while (True):\n",
        "        pixels = [value for value in imgdata.__next__()[:3] +\n",
        "                                imgdata.__next__()[:3] +\n",
        "                                imgdata.__next__()[:3]]\n",
        " \n",
        "        # string of binary data\n",
        "        binstr = ''\n",
        " \n",
        "        for i in pixels[:8]:\n",
        "            if (i % 2 == 0):\n",
        "                binstr += '0'\n",
        "            else:\n",
        "                binstr += '1'\n",
        " \n",
        "        data += chr(int(binstr, 2))\n",
        "        if (pixels[-1] % 2 != 0):\n",
        "            return data\n",
        " \n",
        "# Main Function\n",
        "def main():\n",
        "    a = int(input(\":: Welcome to Steganography ::\\n\"\n",
        "                        \"1. Encode\\n2. Decode\\n\"))\n",
        "    if (a == 1):\n",
        "        encode()\n",
        " \n",
        "    elif (a == 2):\n",
        "        print(\"Decoded Word :  \" + decode())\n",
        "    else:\n",
        "        raise Exception(\"Enter correct input\")\n",
        " \n",
        "# Driver Code\n",
        "if __name__ == '__main__' :\n",
        " \n",
        "    # Calling main function\n",
        "    main()"
      ],
      "execution_count": 25,
      "outputs": [
        {
          "output_type": "stream",
          "text": [
            ":: Welcome to Steganography ::\n",
            "1. Encode\n",
            "2. Decode\n",
            "2\n",
            "Enter image name(with extension) : /content/gdrive/My Drive/ML Projects/Image/new.png\n",
            "Decoded Word :  This dataset contains a large number of unaltered images, called the \"Cover\" image, as well as corresponding examples in which information has been hidden using one of three steganography algorithms (JMiPOD, JUNIWARD, UERD). The goal of the competition is to determine which of the images in the test set (Test/) have hidden messages embedded.  Note that in order to make the competition more realistic the length of hidden messages (the payload) will not be provided. The only available information on the test set is:  Each embedding algorithm is used with the same probability. The payload (message length) is adjusted such that the \"difficulty\" is approximately the same regardless the content of the image. Images with smooth content are used to hide shorter messages while highly textured images will be used to hide more secret bits. The payload is adjusted in the same manner for testing and training sets. The average message length is 0.4 bit per non-zero AC DCT coefficient. The images are all compressed with one of the three following JPEG quality factors: 95, 90 or 75.\n"
          ],
          "name": "stdout"
        }
      ]
    },
    {
      "cell_type": "code",
      "metadata": {
        "id": "6ur6LcqXrg49"
      },
      "source": [
        "/content/gdrive/My Drive/ML Projects/Image/new.png\n"
      ],
      "execution_count": null,
      "outputs": []
    },
    {
      "cell_type": "code",
      "metadata": {
        "id": "GJsjQTPmrg7n"
      },
      "source": [
        "/content/gdrive/My Drive/ML Projects/Image/download.jfif"
      ],
      "execution_count": null,
      "outputs": []
    },
    {
      "cell_type": "code",
      "metadata": {
        "id": "68bf-xdFrg-c"
      },
      "source": [
        "This dataset contains a large number of unaltered images, called the \"Cover\" image, as well as corresponding examples in which information has been hidden using one of three steganography algorithms (JMiPOD, JUNIWARD, UERD). The goal of the competition is to determine which of the images in the test set (Test/) have hidden messages embedded.\n",
        "\n",
        "Note that in order to make the competition more realistic the length of hidden messages (the payload) will not be provided. The only available information on the test set is:\n",
        "\n",
        "Each embedding algorithm is used with the same probability.\n",
        "The payload (message length) is adjusted such that the \"difficulty\" is approximately the same regardless the content of the image. Images with smooth content are used to hide shorter messages while highly textured images will be used to hide more secret bits. The payload is adjusted in the same manner for testing and training sets.\n",
        "The average message length is 0.4 bit per non-zero AC DCT coefficient.\n",
        "The images are all compressed with one of the three following JPEG quality factors: 95, 90 or 75."
      ],
      "execution_count": null,
      "outputs": []
    },
    {
      "cell_type": "code",
      "metadata": {
        "id": "7MkuYoB6rhAb"
      },
      "source": [
        ""
      ],
      "execution_count": null,
      "outputs": []
    }
  ]
}